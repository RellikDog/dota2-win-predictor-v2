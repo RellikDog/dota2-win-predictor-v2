{
 "cells": [
  {
   "cell_type": "code",
   "execution_count": null,
   "metadata": {},
   "outputs": [],
   "source": [
    "# Scaffold for baysian player estimates\n",
    "# -2nd page ()first page only hase 5 inputs\n",
    "# --20 inputs (5 players per team * 2 per player (player and hero) * 2 teams)\n",
    "# --"
   ]
  },
  {
   "cell_type": "code",
   "execution_count": 2,
   "metadata": {},
   "outputs": [],
   "source": [
    "#Imports\n",
    "from src.api_calls import get_match_history, get_match_details\n",
    "from src.cleaners import id_list_from_history, clean_match_details, make_csv, make_pred_row\n",
    "from src.populate_db import populate_db\n",
    "import requests\n",
    "import pymongo\n",
    "from pymongo import MongoClient\n",
    "client = MongoClient('localhost', 27017)\n",
    "db = client.dota_data\n",
    "from src.heroes import heroes, name_id, id_name\n",
    "from src.eda import make_counter\n",
    "import pandas as pd\n",
    "from sklearn.ensemble import RandomForestClassifier\n",
    "from src.models import train_rfc, rfc_pred\n",
    "import numpy as np\n",
    "import pickle\n",
    "from datetime import datetime\n",
    "import time"
   ]
  },
  {
   "cell_type": "code",
   "execution_count": 3,
   "metadata": {},
   "outputs": [
    {
     "data": {
      "text/plain": [
       "{'_id': 5452517913,\n",
       " 'dire_hero_ids': [58, 53, 17, 79, 28],\n",
       " 'match_date': 1591222263,\n",
       " 'radiant_hero_ids': [112, 120, 107, 32, 106],\n",
       " 'radiant_win': 1}"
      ]
     },
     "execution_count": 3,
     "metadata": {},
     "output_type": "execute_result"
    }
   ],
   "source": [
    "db.raw.find_one()"
   ]
  },
  {
   "cell_type": "code",
   "execution_count": 6,
   "metadata": {},
   "outputs": [],
   "source": [
    "rad = ['Chaos Knight', 'Void Spirit', 'Legion Commander', 'Bloodseeker', 'Crystal Maiden']\n",
    "dire = ['Drow Ranger', 'Earthshaker', 'Juggernaut', 'Mars', 'Earth Spirit']"
   ]
  },
  {
   "cell_type": "code",
   "execution_count": 7,
   "metadata": {},
   "outputs": [],
   "source": [
    "pred_row = make_pred_row(pd.read_csv('test.csv'), rad, dire)\n",
    "#pred_row.sum(axis=1)\n"
   ]
  },
  {
   "cell_type": "code",
   "execution_count": 8,
   "metadata": {},
   "outputs": [
    {
     "data": {
      "text/plain": [
       "'Dire Team Win'"
      ]
     },
     "execution_count": 8,
     "metadata": {},
     "output_type": "execute_result"
    }
   ],
   "source": [
    "rfc_pred(pred_row)"
   ]
  },
  {
   "cell_type": "code",
   "execution_count": 9,
   "metadata": {},
   "outputs": [],
   "source": [
    "#data = db.raw.find()\n",
    "c = make_counter(db.raw.find())\n",
    "make_csv(c, db.raw.find())"
   ]
  },
  {
   "cell_type": "code",
   "execution_count": 4,
   "metadata": {},
   "outputs": [],
   "source": [
    "df = pd.read_csv('test.csv')"
   ]
  },
  {
   "cell_type": "code",
   "execution_count": 11,
   "metadata": {},
   "outputs": [
    {
     "data": {
      "text/html": [
       "<div>\n",
       "<style scoped>\n",
       "    .dataframe tbody tr th:only-of-type {\n",
       "        vertical-align: middle;\n",
       "    }\n",
       "\n",
       "    .dataframe tbody tr th {\n",
       "        vertical-align: top;\n",
       "    }\n",
       "\n",
       "    .dataframe thead th {\n",
       "        text-align: right;\n",
       "    }\n",
       "</style>\n",
       "<table border=\"1\" class=\"dataframe\">\n",
       "  <thead>\n",
       "    <tr style=\"text-align: right;\">\n",
       "      <th></th>\n",
       "      <th>Unnamed: 0</th>\n",
       "      <th>match_id</th>\n",
       "      <th>match_date</th>\n",
       "      <th>radiant_win</th>\n",
       "      <th>1R</th>\n",
       "      <th>1D</th>\n",
       "      <th>2R</th>\n",
       "      <th>2D</th>\n",
       "      <th>3R</th>\n",
       "      <th>3D</th>\n",
       "      <th>...</th>\n",
       "      <th>120R</th>\n",
       "      <th>120D</th>\n",
       "      <th>121R</th>\n",
       "      <th>121D</th>\n",
       "      <th>126R</th>\n",
       "      <th>126D</th>\n",
       "      <th>128R</th>\n",
       "      <th>128D</th>\n",
       "      <th>129R</th>\n",
       "      <th>129D</th>\n",
       "    </tr>\n",
       "  </thead>\n",
       "  <tbody>\n",
       "    <tr>\n",
       "      <th>0</th>\n",
       "      <td>0</td>\n",
       "      <td>5452517913</td>\n",
       "      <td>1591222263</td>\n",
       "      <td>1</td>\n",
       "      <td>0</td>\n",
       "      <td>0</td>\n",
       "      <td>0</td>\n",
       "      <td>0</td>\n",
       "      <td>0</td>\n",
       "      <td>0</td>\n",
       "      <td>...</td>\n",
       "      <td>1</td>\n",
       "      <td>0</td>\n",
       "      <td>0</td>\n",
       "      <td>0</td>\n",
       "      <td>0</td>\n",
       "      <td>0</td>\n",
       "      <td>0</td>\n",
       "      <td>0</td>\n",
       "      <td>0</td>\n",
       "      <td>0</td>\n",
       "    </tr>\n",
       "    <tr>\n",
       "      <th>1</th>\n",
       "      <td>1</td>\n",
       "      <td>5452438801</td>\n",
       "      <td>1591217166</td>\n",
       "      <td>1</td>\n",
       "      <td>0</td>\n",
       "      <td>0</td>\n",
       "      <td>0</td>\n",
       "      <td>0</td>\n",
       "      <td>1</td>\n",
       "      <td>0</td>\n",
       "      <td>...</td>\n",
       "      <td>0</td>\n",
       "      <td>0</td>\n",
       "      <td>0</td>\n",
       "      <td>0</td>\n",
       "      <td>0</td>\n",
       "      <td>0</td>\n",
       "      <td>0</td>\n",
       "      <td>0</td>\n",
       "      <td>0</td>\n",
       "      <td>0</td>\n",
       "    </tr>\n",
       "    <tr>\n",
       "      <th>2</th>\n",
       "      <td>2</td>\n",
       "      <td>5452379337</td>\n",
       "      <td>1591213905</td>\n",
       "      <td>0</td>\n",
       "      <td>0</td>\n",
       "      <td>0</td>\n",
       "      <td>1</td>\n",
       "      <td>0</td>\n",
       "      <td>1</td>\n",
       "      <td>0</td>\n",
       "      <td>...</td>\n",
       "      <td>0</td>\n",
       "      <td>0</td>\n",
       "      <td>0</td>\n",
       "      <td>0</td>\n",
       "      <td>0</td>\n",
       "      <td>0</td>\n",
       "      <td>0</td>\n",
       "      <td>0</td>\n",
       "      <td>0</td>\n",
       "      <td>0</td>\n",
       "    </tr>\n",
       "    <tr>\n",
       "      <th>3</th>\n",
       "      <td>3</td>\n",
       "      <td>5452166452</td>\n",
       "      <td>1591204222</td>\n",
       "      <td>1</td>\n",
       "      <td>0</td>\n",
       "      <td>0</td>\n",
       "      <td>0</td>\n",
       "      <td>0</td>\n",
       "      <td>0</td>\n",
       "      <td>1</td>\n",
       "      <td>...</td>\n",
       "      <td>0</td>\n",
       "      <td>0</td>\n",
       "      <td>0</td>\n",
       "      <td>0</td>\n",
       "      <td>0</td>\n",
       "      <td>0</td>\n",
       "      <td>0</td>\n",
       "      <td>0</td>\n",
       "      <td>0</td>\n",
       "      <td>0</td>\n",
       "    </tr>\n",
       "    <tr>\n",
       "      <th>4</th>\n",
       "      <td>4</td>\n",
       "      <td>5452093536</td>\n",
       "      <td>1591201406</td>\n",
       "      <td>0</td>\n",
       "      <td>1</td>\n",
       "      <td>0</td>\n",
       "      <td>0</td>\n",
       "      <td>0</td>\n",
       "      <td>0</td>\n",
       "      <td>0</td>\n",
       "      <td>...</td>\n",
       "      <td>0</td>\n",
       "      <td>0</td>\n",
       "      <td>0</td>\n",
       "      <td>1</td>\n",
       "      <td>0</td>\n",
       "      <td>0</td>\n",
       "      <td>0</td>\n",
       "      <td>0</td>\n",
       "      <td>0</td>\n",
       "      <td>0</td>\n",
       "    </tr>\n",
       "  </tbody>\n",
       "</table>\n",
       "<p>5 rows × 242 columns</p>\n",
       "</div>"
      ],
      "text/plain": [
       "   Unnamed: 0    match_id  match_date  radiant_win  1R  1D  2R  2D  3R  3D  \\\n",
       "0           0  5452517913  1591222263            1   0   0   0   0   0   0   \n",
       "1           1  5452438801  1591217166            1   0   0   0   0   1   0   \n",
       "2           2  5452379337  1591213905            0   0   0   1   0   1   0   \n",
       "3           3  5452166452  1591204222            1   0   0   0   0   0   1   \n",
       "4           4  5452093536  1591201406            0   1   0   0   0   0   0   \n",
       "\n",
       "   ...  120R  120D  121R  121D  126R  126D  128R  128D  129R  129D  \n",
       "0  ...     1     0     0     0     0     0     0     0     0     0  \n",
       "1  ...     0     0     0     0     0     0     0     0     0     0  \n",
       "2  ...     0     0     0     0     0     0     0     0     0     0  \n",
       "3  ...     0     0     0     0     0     0     0     0     0     0  \n",
       "4  ...     0     0     0     1     0     0     0     0     0     0  \n",
       "\n",
       "[5 rows x 242 columns]"
      ]
     },
     "execution_count": 11,
     "metadata": {},
     "output_type": "execute_result"
    }
   ],
   "source": [
    "df.head()"
   ]
  },
  {
   "cell_type": "code",
   "execution_count": null,
   "metadata": {},
   "outputs": [],
   "source": [
    "# from collections import Counter\n",
    "# c = Counter()\n",
    "# for match in data:\n",
    "#     c['count'] += 1\n",
    "#     if c['count'] % 100 == 0:\n",
    "#         print(c['count'])\n",
    "#     try:\n",
    "#         for indx, hero_id in enumerate(match['radiant_hero_ids']):\n",
    "#             c[hero_id] += 1\n",
    "#             c[match['dire_hero_ids'][indx]] += 1\n",
    "#     except:\n",
    "#         print(match)\n"
   ]
  },
  {
   "cell_type": "code",
   "execution_count": 22,
   "metadata": {},
   "outputs": [
    {
     "data": {
      "text/plain": [
       "<pymongo.results.UpdateResult at 0x7f0c8a4a8e10>"
      ]
     },
     "execution_count": 22,
     "metadata": {},
     "output_type": "execute_result"
    }
   ],
   "source": [
    "# db.raw.update_one({'_id':5140440454}, {\"$set\": match}, upsert=True)"
   ]
  },
  {
   "cell_type": "code",
   "execution_count": 23,
   "metadata": {},
   "outputs": [],
   "source": [
    "# for indx, hid in enumerate(match['radiant_hero_ids']):\n",
    "#     c[hid] += 1\n",
    "#     c[match['dire_hero_ids'][indx]] += 1"
   ]
  },
  {
   "cell_type": "code",
   "execution_count": null,
   "metadata": {},
   "outputs": [],
   "source": [
    "# import sys\n",
    "# #start\n",
    "# #for runs\n",
    "# match_IDs = None\n",
    "# for i in range(3):\n",
    "#     print(f'Run: {i+1}')\n",
    "#     #call pro matches api - if list of match id's use lowest match id as last id\n",
    "#     #get list of match id's\n",
    "#     if match_IDs == None:\n",
    "#         match_IDs = id_list_from_history(get_match_history())\n",
    "#     else:\n",
    "#         match_IDs = id_list_from_history(get_match_history(match_IDs[-1]))  \n",
    "#     #for each id\n",
    "#     for match_id in match_IDs[:5]:\n",
    "#         try:\n",
    "#             #insert just match id to check for duplicates\n",
    "#             db.raw.insert_one({'_id': match_id})\n",
    "#             #call & clean match detail api\n",
    "#             match = clean_match_details(get_match_details(match_id))\n",
    "#             #add data to db\n",
    "#             db.raw.update_one({'_id':match['_id']}, {\"$set\": match}, True)\n",
    "#             #print(f'Match {match_id} inserted')\n",
    "#         except pymongo.errors.DuplicateKeyError:\n",
    "#             print('Match ID was already in the DB')\n",
    "#         except:\n",
    "#             print(f'Unknown Error: {sys.exc_info()[0]}')"
   ]
  },
  {
   "cell_type": "code",
   "execution_count": 2,
   "metadata": {},
   "outputs": [
    {
     "data": {
      "text/plain": [
       "<pymongo.results.InsertManyResult at 0x7f16b0f7e460>"
      ]
     },
     "execution_count": 2,
     "metadata": {},
     "output_type": "execute_result"
    }
   ],
   "source": [
    "# #call pro matches api - if list of match id's use lowest match id as last\n",
    "# #get list of match id's\n",
    "# check = []\n",
    "# match_IDs = id_list_from_history(get_match_history())\n",
    "# for match_id in match_IDs:\n",
    "#     match = clean_match_details(get_match_details(match_id))\n",
    "#     check += [match]\n",
    "# db.raw.insert_many(check)\n",
    "# #for each id\n",
    "#     #if id not in db\n",
    "#         #call match detail api\n",
    "#         #clean and add data to db"
   ]
  },
  {
   "cell_type": "code",
   "execution_count": 4,
   "metadata": {},
   "outputs": [],
   "source": [
    "# del test['count']\n",
    "# uids = sorted(test.keys())\n",
    "# uid_cols =  [] #[[(str(i)+'R'),(str(i)+'D')] for i in uids]\n",
    "# for i in uids:\n",
    "#     uid_cols += [(str(i)+'R')]\n",
    "#     uid_cols += [(str(i)+'D')]\n",
    "# #uid_cols\n",
    "# columns = ['match_id', 'match_date', 'radiant_win']\n",
    "# columns += uid_cols\n",
    "# #columns"
   ]
  },
  {
   "cell_type": "code",
   "execution_count": 11,
   "metadata": {},
   "outputs": [],
   "source": [
    "# row_template = {col: 0 for col in columns}\n",
    "# rows_list = []\n",
    "# for match in db.raw.find():\n",
    "#     temp_row = row_template.copy()\n",
    "#     temp_row['match_id'] = match['_id']\n",
    "#     temp_row['match_date'] = match['match_date']\n",
    "#     temp_row['radiant_win'] = match['radiant_win']\n",
    "#     for indx, hid in enumerate(match['radiant_hero_ids']):\n",
    "#         temp_row[(str(hid)+'R')] = 1\n",
    "#         temp_row[(str(match['dire_hero_ids'][indx])+'D')] = 1\n",
    "#     rows_list += [temp_row]"
   ]
  },
  {
   "cell_type": "code",
   "execution_count": 13,
   "metadata": {},
   "outputs": [],
   "source": [
    "# #https://stackoverflow.com/questions/10715965/add-one-row-to-pandas-dataframe/17496530#17496530\n",
    "# import pandas as pd\n",
    "# df = pd.DataFrame(rows_list)\n",
    "# df.to_csv('test.csv')"
   ]
  },
  {
   "cell_type": "code",
   "execution_count": null,
   "metadata": {},
   "outputs": [],
   "source": [
    "# {'_id': 5140440454,\n",
    "#  'radiant_win': 1,\n",
    "#  'match_date': 1575441650,\n",
    "#  'radiant_hero_ids': [111, 97, 13, 104, 70],\n",
    "#  'dire_hero_ids': [87, 41, 9, 75, 98]}"
   ]
  },
  {
   "cell_type": "code",
   "execution_count": 2,
   "metadata": {},
   "outputs": [],
   "source": [
    "x = [heroes[str(hero)]['localized_name'] for hero in heroes]"
   ]
  },
  {
   "cell_type": "code",
   "execution_count": 7,
   "metadata": {},
   "outputs": [],
   "source": [
    "s = ' | '\n",
    "y = s.join(x)"
   ]
  },
  {
   "cell_type": "code",
   "execution_count": 8,
   "metadata": {},
   "outputs": [
    {
     "data": {
      "text/plain": [
       "\"Anti-Mage | Axe | Bane | Bloodseeker | Crystal Maiden | Drow Ranger | Earthshaker | Juggernaut | Mirana | Morphling | Shadow Fiend | Phantom Lancer | Puck | Pudge | Razor | Sand King | Storm Spirit | Sven | Tiny | Vengeful Spirit | Windranger | Zeus | Kunkka | Lina | Lion | Shadow Shaman | Slardar | Tidehunter | Witch Doctor | Lich | Riki | Enigma | Tinker | Sniper | Necrophos | Warlock | Beastmaster | Queen of Pain | Venomancer | Faceless Void | Wraith King | Death Prophet | Phantom Assassin | Pugna | Templar Assassin | Viper | Luna | Dragon Knight | Dazzle | Clockwerk | Leshrac | Nature's Prophet | Lifestealer | Dark Seer | Clinkz | Omniknight | Enchantress | Huskar | Night Stalker | Broodmother | Bounty Hunter | Weaver | Jakiro | Batrider | Chen | Spectre | Ancient Apparition | Doom | Ursa | Spirit Breaker | Gyrocopter | Alchemist | Invoker | Silencer | Outworld Devourer | Lycan | Brewmaster | Shadow Demon | Lone Druid | Chaos Knight | Meepo | Treant Protector | Ogre Magi | Undying | Rubick | Disruptor | Nyx Assassin | Naga Siren | Keeper of the Light | Io | Visage | Slark | Medusa | Troll Warlord | Centaur Warrunner | Magnus | Timbersaw | Bristleback | Tusk | Skywrath Mage | Abaddon | Elder Titan | Legion Commander | Techies | Ember Spirit | Earth Spirit | Underlord | Terrorblade | Phoenix | Oracle | Winter Wyvern | Arc Warden | Monkey King | Dark Willow | Pangolier | Grimstroke | Void Spirit | Snapfire | Mars\""
      ]
     },
     "execution_count": 8,
     "metadata": {},
     "output_type": "execute_result"
    }
   ],
   "source": [
    "y"
   ]
  },
  {
   "cell_type": "code",
   "execution_count": 11,
   "metadata": {},
   "outputs": [],
   "source": [
    "drop_cols = ['Unnamed: 0', 'match_id', 'match_date', 'Unnamed: 1', 'radiant_win']\n",
    "for i in drop_cols:\n",
    "    try:\n",
    "        df.pop(i)\n",
    "    except:\n",
    "        continue\n",
    "pred_row = pd.DataFrame([np.zeros(len(df.columns))], columns=df.columns)\n",
    "for indx, hero in enumerate(rad):\n",
    "    #get radiant hero id - insert to pred row with R\n",
    "    rhid = name_id(hero)\n",
    "    pred_row[str(rhid)+'R'] = 1.0\n",
    "    #get radiant hero id - insert to pred row with D\n",
    "    dhid = name_id(dire[indx])\n",
    "    pred_row[str(dhid)+'D'] = 1.0   "
   ]
  },
  {
   "cell_type": "code",
   "execution_count": 15,
   "metadata": {},
   "outputs": [],
   "source": [
    "model = pickle.load(open('rfc.pkl', 'rb'))"
   ]
  },
  {
   "cell_type": "code",
   "execution_count": 17,
   "metadata": {},
   "outputs": [],
   "source": [
    "prediction = model.predict(pred_row)"
   ]
  },
  {
   "cell_type": "code",
   "execution_count": 19,
   "metadata": {},
   "outputs": [
    {
     "data": {
      "text/plain": [
       "1"
      ]
     },
     "execution_count": 19,
     "metadata": {},
     "output_type": "execute_result"
    }
   ],
   "source": [
    "prediction[0]"
   ]
  },
  {
   "cell_type": "code",
   "execution_count": 3,
   "metadata": {},
   "outputs": [],
   "source": []
  },
  {
   "cell_type": "code",
   "execution_count": 4,
   "metadata": {},
   "outputs": [
    {
     "data": {
      "text/plain": [
       "'Radiant Team Win'"
      ]
     },
     "execution_count": 4,
     "metadata": {},
     "output_type": "execute_result"
    }
   ],
   "source": []
  },
  {
   "cell_type": "code",
   "execution_count": null,
   "metadata": {},
   "outputs": [],
   "source": []
  }
 ],
 "metadata": {
  "kernelspec": {
   "display_name": "Python 3",
   "language": "python",
   "name": "python3"
  },
  "language_info": {
   "codemirror_mode": {
    "name": "ipython",
    "version": 3
   },
   "file_extension": ".py",
   "mimetype": "text/x-python",
   "name": "python",
   "nbconvert_exporter": "python",
   "pygments_lexer": "ipython3",
   "version": "3.7.4"
  }
 },
 "nbformat": 4,
 "nbformat_minor": 4
}