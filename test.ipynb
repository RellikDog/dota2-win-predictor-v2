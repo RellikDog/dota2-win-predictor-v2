{
 "cells": [
  {
   "cell_type": "code",
   "execution_count": 4,
   "metadata": {},
   "outputs": [],
   "source": [
    "#Imports\n",
    "from src.api_calls import get_match_history, get_match_details\n",
    "from src.cleaners import id_list_from_history, clean_match_details, make_csv\n",
    "from src.populate_db import populate_db\n",
    "import requests\n",
    "import pymongo\n",
    "from pymongo import MongoClient\n",
    "client = MongoClient('localhost', 27017)\n",
    "db = client.dota_data\n",
    "from src.heroes import heroes, name_id, id_name\n",
    "from src.eda import make_counter\n",
    "import pandas as pd"
   ]
  },
  {
   "cell_type": "code",
   "execution_count": 2,
   "metadata": {},
   "outputs": [],
   "source": [
    "data = db.raw.find()\n",
    "c = make_counter(data)\n",
    "make_csv(c, data)"
   ]
  },
  {
   "cell_type": "code",
   "execution_count": 5,
   "metadata": {},
   "outputs": [],
   "source": [
    "df = pd.read_csv('test.csv')"
   ]
  },
  {
   "cell_type": "code",
   "execution_count": null,
   "metadata": {},
   "outputs": [],
   "source": []
  },
  {
   "cell_type": "code",
   "execution_count": null,
   "metadata": {},
   "outputs": [],
   "source": [
    "# from collections import Counter\n",
    "# c = Counter()\n",
    "# for match in data:\n",
    "#     c['count'] += 1\n",
    "#     if c['count'] % 100 == 0:\n",
    "#         print(c['count'])\n",
    "#     try:\n",
    "#         for indx, hero_id in enumerate(match['radiant_hero_ids']):\n",
    "#             c[hero_id] += 1\n",
    "#             c[match['dire_hero_ids'][indx]] += 1\n",
    "#     except:\n",
    "#         print(match)\n"
   ]
  },
  {
   "cell_type": "code",
   "execution_count": 21,
   "metadata": {},
   "outputs": [
    {
     "data": {
      "text/plain": [
       "{'_id': 5140440454,\n",
       " 'radiant_win': 1,\n",
       " 'match_date': 1575441650,\n",
       " 'radiant_hero_ids': [111, 97, 13, 104, 70],\n",
       " 'dire_hero_ids': [87, 41, 9, 75, 98]}"
      ]
     },
     "execution_count": 21,
     "metadata": {},
     "output_type": "execute_result"
    }
   ],
   "source": [
    "# match = clean_match_details(get_match_details(5140440454))\n",
    "# match"
   ]
  },
  {
   "cell_type": "code",
   "execution_count": 22,
   "metadata": {},
   "outputs": [
    {
     "data": {
      "text/plain": [
       "<pymongo.results.UpdateResult at 0x7f0c8a4a8e10>"
      ]
     },
     "execution_count": 22,
     "metadata": {},
     "output_type": "execute_result"
    }
   ],
   "source": [
    "# db.raw.update_one({'_id':5140440454}, {\"$set\": match}, upsert=True)"
   ]
  },
  {
   "cell_type": "code",
   "execution_count": 23,
   "metadata": {},
   "outputs": [],
   "source": [
    "# for indx, hid in enumerate(match['radiant_hero_ids']):\n",
    "#     c[hid] += 1\n",
    "#     c[match['dire_hero_ids'][indx]] += 1"
   ]
  },
  {
   "cell_type": "code",
   "execution_count": null,
   "metadata": {},
   "outputs": [],
   "source": [
    "# import sys\n",
    "# #start\n",
    "# #for runs\n",
    "# match_IDs = None\n",
    "# for i in range(3):\n",
    "#     print(f'Run: {i+1}')\n",
    "#     #call pro matches api - if list of match id's use lowest match id as last id\n",
    "#     #get list of match id's\n",
    "#     if match_IDs == None:\n",
    "#         match_IDs = id_list_from_history(get_match_history())\n",
    "#     else:\n",
    "#         match_IDs = id_list_from_history(get_match_history(match_IDs[-1]))  \n",
    "#     #for each id\n",
    "#     for match_id in match_IDs[:5]:\n",
    "#         try:\n",
    "#             #insert just match id to check for duplicates\n",
    "#             db.raw.insert_one({'_id': match_id})\n",
    "#             #call & clean match detail api\n",
    "#             match = clean_match_details(get_match_details(match_id))\n",
    "#             #add data to db\n",
    "#             db.raw.update_one({'_id':match['_id']}, {\"$set\": match}, True)\n",
    "#             #print(f'Match {match_id} inserted')\n",
    "#         except pymongo.errors.DuplicateKeyError:\n",
    "#             print('Match ID was already in the DB')\n",
    "#         except:\n",
    "#             print(f'Unknown Error: {sys.exc_info()[0]}')"
   ]
  },
  {
   "cell_type": "code",
   "execution_count": 2,
   "metadata": {},
   "outputs": [
    {
     "data": {
      "text/plain": [
       "<pymongo.results.InsertManyResult at 0x7f16b0f7e460>"
      ]
     },
     "execution_count": 2,
     "metadata": {},
     "output_type": "execute_result"
    }
   ],
   "source": [
    "# #call pro matches api - if list of match id's use lowest match id as last\n",
    "# #get list of match id's\n",
    "# check = []\n",
    "# match_IDs = id_list_from_history(get_match_history())\n",
    "# for match_id in match_IDs:\n",
    "#     match = clean_match_details(get_match_details(match_id))\n",
    "#     check += [match]\n",
    "# db.raw.insert_many(check)\n",
    "# #for each id\n",
    "#     #if id not in db\n",
    "#         #call match detail api\n",
    "#         #clean and add data to db"
   ]
  },
  {
   "cell_type": "code",
   "execution_count": 4,
   "metadata": {},
   "outputs": [],
   "source": [
    "# del test['count']\n",
    "# uids = sorted(test.keys())\n",
    "# uid_cols =  [] #[[(str(i)+'R'),(str(i)+'D')] for i in uids]\n",
    "# for i in uids:\n",
    "#     uid_cols += [(str(i)+'R')]\n",
    "#     uid_cols += [(str(i)+'D')]\n",
    "# #uid_cols\n",
    "# columns = ['match_id', 'match_date', 'radiant_win']\n",
    "# columns += uid_cols\n",
    "# #columns"
   ]
  },
  {
   "cell_type": "code",
   "execution_count": 11,
   "metadata": {},
   "outputs": [],
   "source": [
    "# row_template = {col: 0 for col in columns}\n",
    "# rows_list = []\n",
    "# for match in db.raw.find():\n",
    "#     temp_row = row_template.copy()\n",
    "#     temp_row['match_id'] = match['_id']\n",
    "#     temp_row['match_date'] = match['match_date']\n",
    "#     temp_row['radiant_win'] = match['radiant_win']\n",
    "#     for indx, hid in enumerate(match['radiant_hero_ids']):\n",
    "#         temp_row[(str(hid)+'R')] = 1\n",
    "#         temp_row[(str(match['dire_hero_ids'][indx])+'D')] = 1\n",
    "#     rows_list += [temp_row]"
   ]
  },
  {
   "cell_type": "code",
   "execution_count": 13,
   "metadata": {},
   "outputs": [],
   "source": [
    "# #https://stackoverflow.com/questions/10715965/add-one-row-to-pandas-dataframe/17496530#17496530\n",
    "# import pandas as pd\n",
    "# df = pd.DataFrame(rows_list)\n",
    "# df.to_csv('test.csv')"
   ]
  },
  {
   "cell_type": "code",
   "execution_count": null,
   "metadata": {},
   "outputs": [],
   "source": [
    "# {'_id': 5140440454,\n",
    "#  'radiant_win': 1,\n",
    "#  'match_date': 1575441650,\n",
    "#  'radiant_hero_ids': [111, 97, 13, 104, 70],\n",
    "#  'dire_hero_ids': [87, 41, 9, 75, 98]}"
   ]
  }
 ],
 "metadata": {
  "kernelspec": {
   "display_name": "Python 3",
   "language": "python",
   "name": "python3"
  },
  "language_info": {
   "codemirror_mode": {
    "name": "ipython",
    "version": 3
   },
   "file_extension": ".py",
   "mimetype": "text/x-python",
   "name": "python",
   "nbconvert_exporter": "python",
   "pygments_lexer": "ipython3",
   "version": "3.7.4"
  }
 },
 "nbformat": 4,
 "nbformat_minor": 4
}
