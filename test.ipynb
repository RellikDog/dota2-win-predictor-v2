{
 "cells": [
  {
   "cell_type": "code",
   "execution_count": 1,
   "metadata": {},
   "outputs": [],
   "source": [
    "#Imports\n",
    "import requests\n",
    "\n",
    "import pymongo\n",
    "from pymongo import MongoClient\n",
    "client = MongoClient('localhost', 27017)\n",
    "#db = client.#"
   ]
  },
  {
   "cell_type": "code",
   "execution_count": 2,
   "metadata": {},
   "outputs": [],
   "source": [
    "#key = 'F5FC7EFDA058ACFD73B657E00676FEC2'\n",
    "#payload = {'key': key}\n",
    "#api_url = 'https://api.steampowered.com/IDOTA2Match_570/GetMatchHistory/V001/'\n",
    "def get_match_history():\n",
    "        \"\"\"Fetch data from the API.\"\"\"\n",
    "        response = requests.get('https://api.opendota.com/api/proMatches')\n",
    "        print(response)\n",
    "        data = response.json()\n",
    "        print(data)\n",
    "        #self.next_sequence_number = data['_next_sequence_number']\n",
    "        return data"
   ]
  },
  {
   "cell_type": "code",
   "execution_count": 3,
   "metadata": {},
   "outputs": [
    {
     "name": "stdout",
     "output_type": "stream",
     "text": [
      "<Response [200]>\n",
      "[{'match_id': 5450581495, 'duration': 3137, 'start_time': 1591123331, 'radiant_team_id': 7422789, 'radiant_name': 'HellRaisers', 'dire_team_id': 2163, 'dire_name': 'Team Liquid', 'leagueid': 12027, 'league_name': 'ESL One Birmingham 2020 Online powered by Intel', 'series_id': 451259, 'series_type': 1, 'radiant_score': 21, 'dire_score': 49, 'radiant_win': False}, {'match_id': 5450485396, 'duration': 2073, 'start_time': 1591119168, 'radiant_team_id': 7422789, 'radiant_name': 'HellRaisers', 'dire_team_id': 2163, 'dire_name': 'Team Liquid', 'leagueid': 12027, 'league_name': 'ESL One Birmingham 2020 Online powered by Intel', 'series_id': 451259, 'series_type': 1, 'radiant_score': 37, 'dire_score': 12, 'radiant_win': True}, {'match_id': 5450449906, 'duration': 2322, 'start_time': 1591117768, 'radiant_team_id': 7118032, 'radiant_name': 'Winstrike Team', 'dire_team_id': 7820540, 'dire_name': 'Team Unique', 'leagueid': 11796, 'league_name': 'Parimatch League Season 3', 'series_id': 451256, 'series_type': 1, 'radiant_score': 18, 'dire_score': 44, 'radiant_win': False}, {'match_id': 5450379602, 'duration': 1942, 'start_time': 1591115070, 'radiant_team_id': 7422789, 'radiant_name': 'HellRaisers', 'dire_team_id': 2163, 'dire_name': 'Team Liquid', 'leagueid': 12027, 'league_name': 'ESL One Birmingham 2020 Online powered by Intel', 'series_id': 451259, 'series_type': 1, 'radiant_score': 6, 'dire_score': 25, 'radiant_win': False}, {'match_id': 5450332626, 'duration': 2287, 'start_time': 1591113631, 'radiant_team_id': 7118032, 'radiant_name': 'Winstrike Team', 'dire_team_id': 7820540, 'dire_name': 'Team Unique', 'leagueid': 11796, 'league_name': 'Parimatch League Season 3', 'series_id': 451256, 'series_type': 1, 'radiant_score': 17, 'dire_score': 29, 'radiant_win': False}, {'match_id': 5450308703, 'duration': 1919, 'start_time': 1591112707, 'radiant_team_id': 7819028, 'radiant_name': '4 Zoomers', 'dire_team_id': 7453744, 'dire_name': 'KHAN', 'leagueid': 12098, 'league_name': 'Vulkan Fight Series', 'series_id': 451223, 'series_type': 1, 'radiant_score': 14, 'dire_score': 43, 'radiant_win': False}, {'match_id': 5450245044, 'duration': 2459, 'start_time': 1591110501, 'radiant_team_id': 6685591, 'radiant_name': 'ViKin.gg', 'dire_team_id': 6953913, 'dire_name': 'FlyToMoon', 'leagueid': 12027, 'league_name': 'ESL One Birmingham 2020 Online powered by Intel', 'series_id': 451227, 'series_type': 1, 'radiant_score': 29, 'dire_score': 19, 'radiant_win': False}, {'match_id': 5450184004, 'duration': 2601, 'start_time': 1591108583, 'radiant_team_id': 7453744, 'radiant_name': 'KHAN', 'dire_team_id': 7819028, 'dire_name': '4 Zoomers', 'leagueid': 12098, 'league_name': 'Vulkan Fight Series', 'series_id': 451223, 'series_type': 1, 'radiant_score': 33, 'dire_score': 45, 'radiant_win': False}, {'match_id': 5450113195, 'duration': 1985, 'start_time': 1591106416, 'radiant_team_id': 6953913, 'radiant_name': 'FlyToMoon', 'dire_team_id': 6685591, 'dire_name': 'ViKin.gg', 'leagueid': 12027, 'league_name': 'ESL One Birmingham 2020 Online powered by Intel', 'series_id': 451227, 'series_type': 1, 'radiant_score': 29, 'dire_score': 14, 'radiant_win': True}, {'match_id': 5450061065, 'duration': 1914, 'start_time': 1591104847, 'radiant_team_id': 7819028, 'radiant_name': '4 Zoomers', 'dire_team_id': 7453744, 'dire_name': 'KHAN', 'leagueid': 12098, 'league_name': 'Vulkan Fight Series', 'series_id': 451223, 'series_type': 1, 'radiant_score': 4, 'dire_score': 27, 'radiant_win': False}, {'match_id': 5450020255, 'duration': 3584, 'start_time': 1591103588, 'radiant_team_id': 7684389, 'radiant_name': 'Focus Arena Dota2', 'dire_team_id': 4993511, 'dire_name': 'NeXT E-sports', 'leagueid': 11782, 'league_name': 'Quick DotA2 Thailand League 2020 - Season 2', 'series_id': 451216, 'series_type': 0, 'radiant_score': 47, 'dire_score': 21, 'radiant_win': True}, {'match_id': 5450015852, 'duration': 1179, 'start_time': 1591103366, 'radiant_team_id': 7846103, 'radiant_name': 'Vampire Gamig', 'dire_team_id': 7253435, 'dire_name': 'Team Galaxy', 'leagueid': 11263, 'league_name': 'Masters  Tournament', 'series_id': 451209, 'series_type': 1, 'radiant_score': 35, 'dire_score': 14, 'radiant_win': True}, {'match_id': 5449956482, 'duration': 1197, 'start_time': 1591101422, 'radiant_team_id': 7253435, 'radiant_name': 'Team Galaxy', 'dire_team_id': 7846103, 'dire_name': 'Vampire Gamig', 'leagueid': 11263, 'league_name': 'Masters  Tournament', 'series_id': 451209, 'series_type': 1, 'radiant_score': 9, 'dire_score': 26, 'radiant_win': False}, {'match_id': 5449922096, 'duration': 2358, 'start_time': 1591100209, 'radiant_team_id': 7667517, 'radiant_name': 'LGD.international', 'dire_team_id': 6187657, 'dire_name': 'Neon Esports', 'leagueid': 11964, 'league_name': 'World E-sports Legendary League', 'series_id': 451205, 'series_type': 0, 'radiant_score': 35, 'dire_score': 17, 'radiant_win': True}, {'match_id': 5449919699, 'duration': 2545, 'start_time': 1591100122, 'radiant_team_id': 15, 'radiant_name': 'PSG.LGD', 'dire_team_id': 5, 'dire_name': 'INVICTUS GAMING', 'leagueid': 12027, 'league_name': 'ESL One Birmingham 2020 Online powered by Intel', 'series_id': 451196, 'series_type': 1, 'radiant_score': 43, 'dire_score': 12, 'radiant_win': True}, {'match_id': 5449900116, 'duration': 2283, 'start_time': 1591099639, 'radiant_team_id': 7358634, 'radiant_name': 'S A D B O Y S . A U', 'dire_team_id': 7802708, 'dire_name': 'Sincerely Fury', 'leagueid': 11828, 'league_name': 'Oceanic Esports Dota League', 'series_id': 451193, 'series_type': 1, 'radiant_score': 31, 'dire_score': 16, 'radiant_win': False}, {'match_id': 5449892977, 'duration': 1586, 'start_time': 1591099618, 'radiant_team_id': 7624504, 'radiant_name': 'MS Chonburi', 'dire_team_id': 6592136, 'dire_name': 'No Spectre', 'leagueid': 11782, 'league_name': 'Quick DotA2 Thailand League 2020 - Season 2', 'series_id': 451203, 'series_type': 0, 'radiant_score': 39, 'dire_score': 9, 'radiant_win': True}, {'match_id': 5449869799, 'duration': 1477, 'start_time': 1591098247, 'radiant_team_id': 7355343, 'radiant_name': 'Immortal Gaming', 'dire_team_id': 7405034, 'dire_name': 'Revenge Gaming', 'leagueid': 11263, 'league_name': 'Masters  Tournament', 'series_id': 451192, 'series_type': 1, 'radiant_score': 7, 'dire_score': 20, 'radiant_win': False}, {'match_id': 5449830847, 'duration': 1797, 'start_time': 1591096755, 'radiant_team_id': 6187657, 'radiant_name': 'Neon Esports', 'dire_team_id': 7667517, 'dire_name': 'LGD.international', 'leagueid': 11964, 'league_name': 'World E-sports Legendary League', 'series_id': 451198, 'series_type': 0, 'radiant_score': 38, 'dire_score': 14, 'radiant_win': True}, {'match_id': 5449829040, 'duration': 1955, 'start_time': 1591096586, 'radiant_team_id': 7802708, 'radiant_name': 'Sincerely Fury', 'dire_team_id': 7358634, 'dire_name': 'S A D B O Y S . A U', 'leagueid': 11828, 'league_name': 'Oceanic Esports Dota League', 'series_id': 451193, 'series_type': 1, 'radiant_score': 37, 'dire_score': 15, 'radiant_win': True}, {'match_id': 5449813596, 'duration': 1157, 'start_time': 1591095917, 'radiant_team_id': 7355343, 'radiant_name': 'Immortal Gaming', 'dire_team_id': 7405034, 'dire_name': 'Revenge Gaming', 'leagueid': 11263, 'league_name': 'Masters  Tournament', 'series_id': 451192, 'series_type': 1, 'radiant_score': 15, 'dire_score': 26, 'radiant_win': False}, {'match_id': 5449806735, 'duration': 2721, 'start_time': 1591095610, 'radiant_team_id': 5, 'radiant_name': 'INVICTUS GAMING', 'dire_team_id': 15, 'dire_name': 'PSG.LGD', 'leagueid': 12027, 'league_name': 'ESL One Birmingham 2020 Online powered by Intel', 'series_id': 451196, 'series_type': 1, 'radiant_score': 16, 'dire_score': 45, 'radiant_win': False}, {'match_id': 5449756388, 'duration': 1553, 'start_time': 1591093507, 'radiant_team_id': 7358634, 'radiant_name': 'S A D B O Y S . A U', 'dire_team_id': 7802708, 'dire_name': 'Sincerely Fury', 'leagueid': 11828, 'league_name': 'Oceanic Esports Dota League', 'series_id': 451193, 'series_type': 1, 'radiant_score': 30, 'dire_score': 7, 'radiant_win': True}, {'match_id': 5449744829, 'duration': 1878, 'start_time': 1591092757, 'radiant_team_id': 7405034, 'radiant_name': 'Revenge Gaming', 'dire_team_id': 7355343, 'dire_name': 'Immortal Gaming', 'leagueid': 11263, 'league_name': 'Masters  Tournament', 'series_id': 451192, 'series_type': 1, 'radiant_score': 22, 'dire_score': 37, 'radiant_win': False}, {'match_id': 5449734818, 'duration': 2032, 'start_time': 1591092289, 'radiant_team_id': 6795631, 'radiant_name': 'Flower Gaming', 'dire_team_id': 2277712, 'dire_name': 'StarLucK.Fly', 'leagueid': 12055, 'league_name': 'Stella Cup', 'series_id': 451180, 'series_type': 1, 'radiant_score': 46, 'dire_score': 15, 'radiant_win': True}, {'match_id': 5449709866, 'duration': 3273, 'start_time': 1591091086, 'radiant_team_id': 6187657, 'radiant_name': 'Neon Esports', 'dire_team_id': 350190, 'dire_name': 'Fnatic', 'leagueid': 11964, 'league_name': 'World E-sports Legendary League', 'series_id': 451189, 'series_type': 0, 'radiant_score': 58, 'dire_score': 39, 'radiant_win': True}, {'match_id': 5449686587, 'duration': 1954, 'start_time': 1591089923, 'radiant_team_id': 7855956, 'radiant_name': 'Adió Chula', 'dire_team_id': 7204148, 'dire_name': 'Flash Point Gaming', 'leagueid': 11828, 'league_name': 'Oceanic Esports Dota League', 'series_id': 451172, 'series_type': 1, 'radiant_score': 42, 'dire_score': 24, 'radiant_win': True}, {'match_id': 5449677465, 'duration': 1884, 'start_time': 1591089464, 'radiant_team_id': 7423567, 'radiant_name': 'Team Honor', 'dire_team_id': 7610494, 'dire_name': 'Team Destiny', 'leagueid': 11263, 'league_name': 'Masters  Tournament', 'series_id': 451179, 'series_type': 1, 'radiant_score': 33, 'dire_score': 26, 'radiant_win': True}, {'match_id': 5449635341, 'duration': 2221, 'start_time': 1591088070, 'radiant_team_id': 2277712, 'radiant_name': 'StarLucK.Fly', 'dire_team_id': 6795631, 'dire_name': 'Flower Gaming', 'leagueid': 12055, 'league_name': 'Stella Cup', 'series_id': 451180, 'series_type': 1, 'radiant_score': 20, 'dire_score': 31, 'radiant_win': False}, {'match_id': 5449625010, 'duration': 1601, 'start_time': 1591086836, 'radiant_team_id': 7610494, 'radiant_name': 'Team Destiny', 'dire_team_id': 7423567, 'dire_name': 'Team Honor', 'leagueid': 11263, 'league_name': 'Masters  Tournament', 'series_id': 451179, 'series_type': 1, 'radiant_score': 23, 'dire_score': 31, 'radiant_win': False}, {'match_id': 5449620942, 'duration': 1442, 'start_time': 1591086798, 'radiant_team_id': 6187657, 'radiant_name': 'Neon Esports', 'dire_team_id': 350190, 'dire_name': 'Fnatic', 'leagueid': 11964, 'league_name': 'World E-sports Legendary League', 'series_id': 451177, 'series_type': 0, 'radiant_score': 10, 'dire_score': 21, 'radiant_win': False}, {'match_id': 5449583286, 'duration': 2465, 'start_time': 1591085521, 'radiant_team_id': 7204148, 'radiant_name': 'Flash Point Gaming', 'dire_team_id': 7855956, 'dire_name': 'Adió Chula', 'leagueid': 11828, 'league_name': 'Oceanic Esports Dota League', 'series_id': 451172, 'series_type': 1, 'radiant_score': 19, 'dire_score': 30, 'radiant_win': False}, {'match_id': 5449569784, 'duration': 1811, 'start_time': 1591083927, 'radiant_team_id': 7852100, 'radiant_name': 'TEAM LIGHTNING', 'dire_team_id': 7852051, 'dire_name': 'TEAM ASPIRATIONS', 'leagueid': 11382, 'league_name': 'Asian DOTA2 Gold Occupation  Competition', 'series_id': 451162, 'series_type': 1, 'radiant_score': 52, 'dire_score': 43, 'radiant_win': False}, {'match_id': 5449540107, 'duration': 1616, 'start_time': 1591082301, 'radiant_team_id': 7978798, 'radiant_name': 'Marble', 'dire_team_id': 7408845, 'dire_name': 'Execration', 'leagueid': 12055, 'league_name': 'Stella Cup', 'series_id': 451161, 'series_type': 1, 'radiant_score': 45, 'dire_score': 10, 'radiant_win': True}, {'match_id': 5449532848, 'duration': 1314, 'start_time': 1591081894, 'radiant_team_id': 7852051, 'radiant_name': 'TEAM ASPIRATIONS', 'dire_team_id': 7852100, 'dire_name': 'TEAM LIGHTNING', 'leagueid': 11382, 'league_name': 'Asian DOTA2 Gold Occupation  Competition', 'series_id': 451162, 'series_type': 1, 'radiant_score': 25, 'dire_score': 36, 'radiant_win': False}, {'match_id': 5449531556, 'duration': 3085, 'start_time': 1591081821, 'radiant_team_id': 350190, 'radiant_name': 'Fnatic', 'dire_team_id': 7667517, 'dire_name': 'LGD.international', 'leagueid': 11964, 'league_name': 'World E-sports Legendary League', 'series_id': 451166, 'series_type': 0, 'radiant_score': 39, 'dire_score': 34, 'radiant_win': True}, {'match_id': 5449496600, 'duration': 1242, 'start_time': 1591079811, 'radiant_team_id': 7852100, 'radiant_name': 'TEAM LIGHTNING', 'dire_team_id': 7852051, 'dire_name': 'TEAM ASPIRATIONS', 'leagueid': 11382, 'league_name': 'Asian DOTA2 Gold Occupation  Competition', 'series_id': 451162, 'series_type': 1, 'radiant_score': 20, 'dire_score': 33, 'radiant_win': False}, {'match_id': 5449472858, 'duration': 1636, 'start_time': 1591078731, 'radiant_team_id': 7408845, 'radiant_name': 'Execration', 'dire_team_id': 7978798, 'dire_name': 'Marble', 'leagueid': 12055, 'league_name': 'Stella Cup', 'series_id': 451161, 'series_type': 1, 'radiant_score': 9, 'dire_score': 26, 'radiant_win': False}, {'match_id': 5449446679, 'duration': 1696, 'start_time': 1591076717, 'radiant_team_id': 7610605, 'radiant_name': 'Hot Pot Brother', 'dire_team_id': 7852051, 'dire_name': 'TEAM ASPIRATIONS', 'leagueid': 11382, 'league_name': 'Asian DOTA2 Gold Occupation  Competition', 'series_id': 451156, 'series_type': 1, 'radiant_score': 35, 'dire_score': 31, 'radiant_win': False}, {'match_id': 5449446588, 'duration': 3023, 'start_time': 1591076791, 'radiant_team_id': 7667517, 'radiant_name': 'LGD.international', 'dire_team_id': 350190, 'dire_name': 'Fnatic', 'leagueid': 11964, 'league_name': 'World E-sports Legendary League', 'series_id': 451158, 'series_type': 0, 'radiant_score': 36, 'dire_score': 40, 'radiant_win': False}, {'match_id': 5449409755, 'duration': 1478, 'start_time': 1591074409, 'radiant_team_id': 7852051, 'radiant_name': 'TEAM ASPIRATIONS', 'dire_team_id': 7610605, 'dire_name': 'Hot Pot Brother', 'leagueid': 11382, 'league_name': 'Asian DOTA2 Gold Occupation  Competition', 'series_id': 451156, 'series_type': 1, 'radiant_score': 33, 'dire_score': 40, 'radiant_win': True}, {'match_id': 5449387622, 'duration': 2946, 'start_time': 1591072940, 'radiant_team_id': 7765736, 'radiant_name': 'Elephant', 'dire_team_id': 6187657, 'dire_name': 'Neon Esports', 'leagueid': 12055, 'league_name': 'Stella Cup', 'series_id': 451143, 'series_type': 1, 'radiant_score': 39, 'dire_score': 21, 'radiant_win': True}, {'match_id': 5449373749, 'duration': 3172, 'start_time': 1591072047, 'radiant_team_id': 7453020, 'radiant_name': 'Aster.Aries', 'dire_team_id': 7667517, 'dire_name': 'LGD.international', 'leagueid': 11964, 'league_name': 'World E-sports Legendary League', 'series_id': 451154, 'series_type': 0, 'radiant_score': 31, 'dire_score': 19, 'radiant_win': True}, {'match_id': 5449363291, 'duration': 1889, 'start_time': 1591071348, 'radiant_team_id': 7868515, 'radiant_name': 'Team Venture', 'dire_team_id': 7358551, 'dire_name': 'Sunrise', 'leagueid': 11382, 'league_name': 'Asian DOTA2 Gold Occupation  Competition', 'series_id': 451136, 'series_type': 1, 'radiant_score': 33, 'dire_score': 39, 'radiant_win': True}, {'match_id': 5449323875, 'duration': 1475, 'start_time': 1591068807, 'radiant_team_id': 7358551, 'radiant_name': 'Sunrise', 'dire_team_id': 7868515, 'dire_name': 'Team Venture', 'leagueid': 11382, 'league_name': 'Asian DOTA2 Gold Occupation  Competition', 'series_id': 451136, 'series_type': 1, 'radiant_score': 47, 'dire_score': 23, 'radiant_win': True}, {'match_id': 5449313854, 'duration': 2966, 'start_time': 1591068263, 'radiant_team_id': 6187657, 'radiant_name': 'Neon Esports', 'dire_team_id': 7765736, 'dire_name': 'Elephant', 'leagueid': 12055, 'league_name': 'Stella Cup', 'series_id': 451143, 'series_type': 1, 'radiant_score': 18, 'dire_score': 43, 'radiant_win': False}, {'match_id': 5449312328, 'duration': 2527, 'start_time': 1591068058, 'radiant_team_id': 7667517, 'radiant_name': 'LGD.international', 'dire_team_id': 7453020, 'dire_name': 'Aster.Aries', 'leagueid': 11964, 'league_name': 'World E-sports Legendary League', 'series_id': 451142, 'series_type': 0, 'radiant_score': 25, 'dire_score': 18, 'radiant_win': True}, {'match_id': 5449294568, 'duration': 1336, 'start_time': 1591066551, 'radiant_team_id': 7868515, 'radiant_name': 'Team Venture', 'dire_team_id': 7358551, 'dire_name': 'Sunrise', 'leagueid': 11382, 'league_name': 'Asian DOTA2 Gold Occupation  Competition', 'series_id': 451136, 'series_type': 1, 'radiant_score': 43, 'dire_score': 21, 'radiant_win': True}, {'match_id': 5448545961, 'duration': 3012, 'start_time': 1591026363, 'radiant_team_id': 7555613, 'radiant_name': 'OG.Seed', 'dire_team_id': 6409189, 'dire_name': 'Team Empire Hope', 'leagueid': 12098, 'league_name': 'Vulkan Fight Series', 'series_id': 450999, 'series_type': 1, 'radiant_score': 32, 'dire_score': 32, 'radiant_win': True}, {'match_id': 5448423128, 'duration': 1486, 'start_time': 1591022633, 'radiant_team_id': 7555613, 'radiant_name': 'OG.Seed', 'dire_team_id': 6409189, 'dire_name': 'Team Empire Hope', 'leagueid': 12098, 'league_name': 'Vulkan Fight Series', 'series_id': 450999, 'series_type': 1, 'radiant_score': 27, 'dire_score': 11, 'radiant_win': True}, {'match_id': 5448372917, 'duration': 1761, 'start_time': 1591021041, 'radiant_team_id': 7453744, 'radiant_name': 'KHAN', 'dire_team_id': 7820540, 'dire_name': 'Team Unique', 'leagueid': 11796, 'league_name': 'Parimatch League Season 3', 'series_id': 450990, 'series_type': 1, 'radiant_score': 8, 'dire_score': 38, 'radiant_win': False}, {'match_id': 5448306852, 'duration': 1249, 'start_time': 1591019136, 'radiant_team_id': 7405066, 'radiant_name': 'Vampire Gaming', 'dire_team_id': 7639670, 'dire_name': 'Team Meteor', 'leagueid': 11263, 'league_name': 'Masters  Tournament', 'series_id': 412394, 'series_type': 1, 'radiant_score': 17, 'dire_score': 25, 'radiant_win': False}, {'match_id': 5448286326, 'duration': 2181, 'start_time': 1591018700, 'radiant_team_id': 7555613, 'radiant_name': 'OG.Seed', 'dire_team_id': 6409189, 'dire_name': 'Team Empire Hope', 'leagueid': 12098, 'league_name': 'Vulkan Fight Series', 'series_id': 450999, 'series_type': 1, 'radiant_score': 12, 'dire_score': 37, 'radiant_win': False}, {'match_id': 5448237111, 'duration': 1516, 'start_time': 1591017104, 'radiant_team_id': 7639670, 'radiant_name': 'Team Meteor', 'dire_team_id': 7846103, 'dire_name': 'Vampire Gamig', 'leagueid': 11263, 'league_name': 'Masters  Tournament', 'series_id': 450989, 'series_type': 1, 'radiant_score': 16, 'dire_score': 31, 'radiant_win': False}, {'match_id': 5448207969, 'duration': 2168, 'start_time': 1591016408, 'radiant_team_id': 7453744, 'radiant_name': 'KHAN', 'dire_team_id': 7820540, 'dire_name': 'Team Unique', 'leagueid': 11796, 'league_name': 'Parimatch League Season 3', 'series_id': 450990, 'series_type': 1, 'radiant_score': 18, 'dire_score': 31, 'radiant_win': False}, {'match_id': 5448177445, 'duration': 1254, 'start_time': 1591015267, 'radiant_team_id': 7846103, 'radiant_name': 'Vampire Gamig', 'dire_team_id': 7639670, 'dire_name': 'Team Meteor', 'leagueid': 11263, 'league_name': 'Masters  Tournament', 'series_id': 450989, 'series_type': 1, 'radiant_score': 21, 'dire_score': 32, 'radiant_win': False}, {'match_id': 5448062880, 'duration': 1926, 'start_time': 1591011364, 'radiant_team_id': 7610494, 'radiant_name': 'Team Destiny', 'dire_team_id': 7355343, 'dire_name': 'Immortal Gaming', 'leagueid': 11263, 'league_name': 'Masters  Tournament', 'series_id': 450980, 'series_type': 1, 'radiant_score': 36, 'dire_score': 37, 'radiant_win': True}, {'match_id': 5447992646, 'duration': 1773, 'start_time': 1591008602, 'radiant_team_id': 7355343, 'radiant_name': 'Immortal Gaming', 'dire_team_id': 7610494, 'dire_name': 'Team Destiny', 'leagueid': 11263, 'league_name': 'Masters  Tournament', 'series_id': 450980, 'series_type': 1, 'radiant_score': 26, 'dire_score': 43, 'radiant_win': False}, {'match_id': 5447964890, 'duration': 2839, 'start_time': 1591007427, 'radiant_team_id': 8010754, 'radiant_name': 'Golden Dragon', 'dire_team_id': 7716474, 'dire_name': 'NatusTheBelarus', 'leagueid': 12005, 'league_name': 'ROG Community Cup Season 2', 'series_id': 450979, 'series_type': 0, 'radiant_score': 50, 'dire_score': 47, 'radiant_win': False}, {'match_id': 5447925886, 'duration': 1336, 'start_time': 1591005734, 'radiant_team_id': 7612347, 'radiant_name': 'Panda Gaming', 'dire_team_id': 7405034, 'dire_name': 'Revenge Gaming', 'leagueid': 11263, 'league_name': 'Masters  Tournament', 'series_id': 450966, 'series_type': 1, 'radiant_score': 19, 'dire_score': 32, 'radiant_win': False}, {'match_id': 5447867826, 'duration': 1718, 'start_time': 1591003124, 'radiant_team_id': 7405034, 'radiant_name': 'Revenge Gaming', 'dire_team_id': 7612347, 'dire_name': 'Panda Gaming', 'leagueid': 11263, 'league_name': 'Masters  Tournament', 'series_id': 450966, 'series_type': 1, 'radiant_score': 30, 'dire_score': 37, 'radiant_win': False}, {'match_id': 5447864354, 'duration': 3036, 'start_time': 1591002968, 'radiant_team_id': 8010754, 'radiant_name': 'Golden Dragon', 'dire_team_id': 7716474, 'dire_name': 'NatusTheBelarus', 'leagueid': 12005, 'league_name': 'ROG Community Cup Season 2', 'series_id': 450969, 'series_type': 0, 'radiant_score': 53, 'dire_score': 54, 'radiant_win': False}, {'match_id': 5447811671, 'duration': 1450, 'start_time': 1591000574, 'radiant_team_id': 7612347, 'radiant_name': 'Panda Gaming', 'dire_team_id': 7405034, 'dire_name': 'Revenge Gaming', 'leagueid': 11263, 'league_name': 'Masters  Tournament', 'series_id': 450966, 'series_type': 1, 'radiant_score': 15, 'dire_score': 33, 'radiant_win': False}, {'match_id': 5447715153, 'duration': 1366, 'start_time': 1590995943, 'radiant_team_id': 7852100, 'radiant_name': 'TEAM LIGHTNING', 'dire_team_id': 7852001, 'dire_name': 'Future.club', 'leagueid': 11382, 'league_name': 'Asian DOTA2 Gold Occupation  Competition', 'series_id': 450953, 'series_type': 1, 'radiant_score': 36, 'dire_score': 18, 'radiant_win': True}, {'match_id': 5447667077, 'duration': 1425, 'start_time': 1590993483, 'radiant_team_id': 7852001, 'radiant_name': 'Future.club', 'dire_team_id': 7852100, 'dire_name': 'TEAM LIGHTNING', 'leagueid': 11382, 'league_name': 'Asian DOTA2 Gold Occupation  Competition', 'series_id': 450953, 'series_type': 1, 'radiant_score': 27, 'dire_score': 23, 'radiant_win': True}, {'match_id': 5447620916, 'duration': 1216, 'start_time': 1590990982, 'radiant_team_id': 7852100, 'radiant_name': 'TEAM LIGHTNING', 'dire_team_id': 7852001, 'dire_name': 'Future.club', 'leagueid': 11382, 'league_name': 'Asian DOTA2 Gold Occupation  Competition', 'series_id': 450953, 'series_type': 1, 'radiant_score': 31, 'dire_score': 19, 'radiant_win': True}, {'match_id': 5447586578, 'duration': 3046, 'start_time': 1590988860, 'radiant_team_id': 2277712, 'radiant_name': 'StarLucK.Fly', 'dire_team_id': 7034601, 'dire_name': 'Photon Gaming', 'leagueid': 12055, 'league_name': 'Stella Cup', 'series_id': 450931, 'series_type': 1, 'radiant_score': 17, 'dire_score': 25, 'radiant_win': False}, {'match_id': 5447564856, 'duration': 1744, 'start_time': 1590987436, 'radiant_team_id': 7217630, 'radiant_name': 'WOLF', 'dire_team_id': 7314697, 'dire_name': 'FIVE BROTHERS', 'leagueid': 11382, 'league_name': 'Asian DOTA2 Gold Occupation  Competition', 'series_id': 450948, 'series_type': 1, 'radiant_score': 32, 'dire_score': 38, 'radiant_win': False}, {'match_id': 5447538078, 'duration': 1189, 'start_time': 1590985705, 'radiant_team_id': 7314697, 'radiant_name': 'FIVE BROTHERS', 'dire_team_id': 7217630, 'dire_name': 'WOLF', 'leagueid': 11382, 'league_name': 'Asian DOTA2 Gold Occupation  Competition', 'series_id': 450948, 'series_type': 1, 'radiant_score': 35, 'dire_score': 25, 'radiant_win': True}, {'match_id': 5447529628, 'duration': 2394, 'start_time': 1590985149, 'radiant_team_id': 7034601, 'radiant_name': 'Photon Gaming', 'dire_team_id': 2277712, 'dire_name': 'StarLucK.Fly', 'leagueid': 12055, 'league_name': 'Stella Cup', 'series_id': 450931, 'series_type': 1, 'radiant_score': 23, 'dire_score': 16, 'radiant_win': True}, {'match_id': 5447519774, 'duration': 3129, 'start_time': 1590984661, 'radiant_team_id': 7314697, 'radiant_name': 'FIVE BROTHERS', 'dire_team_id': 7217630, 'dire_name': 'WOLF', 'leagueid': 11382, 'league_name': 'Asian DOTA2 Gold Occupation  Competition', 'series_id': 450945, 'series_type': 1, 'radiant_score': 0, 'dire_score': 0, 'radiant_win': True}, {'match_id': 5447476888, 'duration': 1776, 'start_time': 1590981755, 'radiant_team_id': 7314697, 'radiant_name': 'FIVE BROTHERS', 'dire_team_id': 7868515, 'dire_name': 'Team Venture', 'leagueid': 11382, 'league_name': 'Asian DOTA2 Gold Occupation  Competition', 'series_id': 450916, 'series_type': 1, 'radiant_score': 45, 'dire_score': 39, 'radiant_win': True}, {'match_id': 5447466274, 'duration': 1860, 'start_time': 1590981457, 'radiant_team_id': 2277712, 'radiant_name': 'StarLucK.Fly', 'dire_team_id': 7034601, 'dire_name': 'Photon Gaming', 'leagueid': 12055, 'league_name': 'Stella Cup', 'series_id': 450931, 'series_type': 1, 'radiant_score': 17, 'dire_score': 8, 'radiant_win': True}, {'match_id': 5447432826, 'duration': 1682, 'start_time': 1590979034, 'radiant_team_id': 7868515, 'radiant_name': 'Team Venture', 'dire_team_id': 7314697, 'dire_name': 'FIVE BROTHERS', 'leagueid': 11382, 'league_name': 'Asian DOTA2 Gold Occupation  Competition', 'series_id': 450916, 'series_type': 1, 'radiant_score': 31, 'dire_score': 35, 'radiant_win': False}, {'match_id': 5447287781, 'duration': 2231, 'start_time': 1590968521, 'radiant_team_id': 7390454, 'radiant_name': 'Quincy Crew', 'dire_team_id': 7441136, 'dire_name': 'beastcoast', 'leagueid': 12027, 'league_name': 'ESL One Birmingham 2020 Online powered by Intel', 'series_id': 450804, 'series_type': 1, 'radiant_score': 44, 'dire_score': 14, 'radiant_win': True}, {'match_id': 5447251181, 'duration': 1526, 'start_time': 1590965524, 'radiant_team_id': 7748744, 'radiant_name': 'CR4ZY', 'dire_team_id': 7681441, 'dire_name': 'business associates', 'leagueid': 12027, 'league_name': 'ESL One Birmingham 2020 Online powered by Intel', 'series_id': 450806, 'series_type': 1, 'radiant_score': 22, 'dire_score': 13, 'radiant_win': True}, {'match_id': 5447229811, 'duration': 2562, 'start_time': 1590964046, 'radiant_team_id': 7390454, 'radiant_name': 'Quincy Crew', 'dire_team_id': 7441136, 'dire_name': 'beastcoast', 'leagueid': 12027, 'league_name': 'ESL One Birmingham 2020 Online powered by Intel', 'series_id': 450804, 'series_type': 1, 'radiant_score': 18, 'dire_score': 36, 'radiant_win': False}, {'match_id': 5447222283, 'duration': 3273, 'start_time': 1590963558, 'radiant_team_id': 6382242, 'radiant_name': 'Thunder Predator', 'dire_team_id': 39, 'dire_name': 'Evil Geniuses', 'leagueid': 12027, 'league_name': 'ESL One Birmingham 2020 Online powered by Intel', 'series_id': 450807, 'series_type': 1, 'radiant_score': 3, 'dire_score': 3, 'radiant_win': True}, {'match_id': 5447151947, 'duration': 2259, 'start_time': 1590959532, 'radiant_team_id': 39, 'radiant_name': 'Evil Geniuses', 'dire_team_id': 6382242, 'dire_name': 'Thunder Predator', 'leagueid': 12027, 'league_name': 'ESL One Birmingham 2020 Online powered by Intel', 'series_id': 450807, 'series_type': 1, 'radiant_score': 15, 'dire_score': 27, 'radiant_win': False}, {'match_id': 5447147973, 'duration': 3621, 'start_time': 1590959536, 'radiant_team_id': 7748744, 'radiant_name': 'CR4ZY', 'dire_team_id': 7681441, 'dire_name': 'business associates', 'leagueid': 12027, 'league_name': 'ESL One Birmingham 2020 Online powered by Intel', 'series_id': 450806, 'series_type': 1, 'radiant_score': 30, 'dire_score': 28, 'radiant_win': True}, {'match_id': 5447146779, 'duration': 2165, 'start_time': 1590959563, 'radiant_team_id': 7390454, 'radiant_name': 'Quincy Crew', 'dire_team_id': 7441136, 'dire_name': 'beastcoast', 'leagueid': 12027, 'league_name': 'ESL One Birmingham 2020 Online powered by Intel', 'series_id': 450804, 'series_type': 1, 'radiant_score': 30, 'dire_score': 8, 'radiant_win': True}, {'match_id': 5447058003, 'duration': 2063, 'start_time': 1590955391, 'radiant_team_id': 6214973, 'radiant_name': 'Ninjas in Pyjamas', 'dire_team_id': 7819701, 'dire_name': 'VP.Prodigy', 'leagueid': 12027, 'league_name': 'ESL One Birmingham 2020 Online powered by Intel', 'series_id': 450724, 'series_type': 1, 'radiant_score': 14, 'dire_score': 41, 'radiant_win': False}, {'match_id': 5446982061, 'duration': 1504, 'start_time': 1590951655, 'radiant_team_id': 6953913, 'radiant_name': 'FlyToMoon', 'dire_team_id': 7669103, 'dire_name': 'Cyber Legacy', 'leagueid': 12027, 'league_name': 'ESL One Birmingham 2020 Online powered by Intel', 'series_id': 450736, 'series_type': 1, 'radiant_score': 32, 'dire_score': 7, 'radiant_win': True}, {'match_id': 5446976415, 'duration': 2215, 'start_time': 1590951423, 'radiant_team_id': 111474, 'radiant_name': 'Alliance', 'dire_team_id': 2586976, 'dire_name': 'OG', 'leagueid': 12027, 'league_name': 'ESL One Birmingham 2020 Online powered by Intel', 'series_id': 450729, 'series_type': 1, 'radiant_score': 46, 'dire_score': 32, 'radiant_win': True}, {'match_id': 5446954733, 'duration': 2846, 'start_time': 1590950530, 'radiant_team_id': 6214973, 'radiant_name': 'Ninjas in Pyjamas', 'dire_team_id': 7819701, 'dire_name': 'VP.Prodigy', 'leagueid': 12027, 'league_name': 'ESL One Birmingham 2020 Online powered by Intel', 'series_id': 450724, 'series_type': 1, 'radiant_score': 26, 'dire_score': 47, 'radiant_win': False}, {'match_id': 5446939580, 'duration': 1297, 'start_time': 1590949911, 'radiant_team_id': 7422789, 'radiant_name': 'HellRaisers', 'dire_team_id': None, 'dire_name': None, 'leagueid': 12027, 'league_name': 'ESL One Birmingham 2020 Online powered by Intel', 'series_id': 0, 'series_type': 0, 'radiant_score': 27, 'dire_score': 8, 'radiant_win': True}, {'match_id': 5446922398, 'duration': 1717, 'start_time': 1590949273, 'radiant_team_id': 7848119, 'radiant_name': 'NOVA', 'dire_team_id': 6409189, 'dire_name': 'Team Empire Hope', 'leagueid': 11999, 'league_name': 'Global Infection Cup', 'series_id': 450633, 'series_type': 2, 'radiant_score': 39, 'dire_score': 9, 'radiant_win': True}, {'match_id': 5446871351, 'duration': 2615, 'start_time': 1590947267, 'radiant_team_id': 6953913, 'radiant_name': 'FlyToMoon', 'dire_team_id': 7669103, 'dire_name': 'Cyber Legacy', 'leagueid': 12027, 'league_name': 'ESL One Birmingham 2020 Online powered by Intel', 'series_id': 450736, 'series_type': 1, 'radiant_score': 36, 'dire_score': 25, 'radiant_win': True}, {'match_id': 5446860850, 'duration': 1475, 'start_time': 1590946867, 'radiant_team_id': 7422789, 'radiant_name': 'HellRaisers', 'dire_team_id': 7118032, 'dire_name': 'Winstrike Team', 'leagueid': 12027, 'league_name': 'ESL One Birmingham 2020 Online powered by Intel', 'series_id': 450732, 'series_type': 1, 'radiant_score': 27, 'dire_score': 11, 'radiant_win': True}, {'match_id': 5446857495, 'duration': 2460, 'start_time': 1590946873, 'radiant_team_id': 111474, 'radiant_name': 'Alliance', 'dire_team_id': 2586976, 'dire_name': 'OG', 'leagueid': 12027, 'league_name': 'ESL One Birmingham 2020 Online powered by Intel', 'series_id': 450729, 'series_type': 1, 'radiant_score': 37, 'dire_score': 24, 'radiant_win': True}, {'match_id': 5446844913, 'duration': 1883, 'start_time': 1590946871, 'radiant_team_id': 7819701, 'radiant_name': 'VP.Prodigy', 'dire_team_id': 6214973, 'dire_name': 'Ninjas in Pyjamas', 'leagueid': 12027, 'league_name': 'ESL One Birmingham 2020 Online powered by Intel', 'series_id': 450724, 'series_type': 1, 'radiant_score': 17, 'dire_score': 22, 'radiant_win': False}, {'match_id': 5446822221, 'duration': 1974, 'start_time': 1590945377, 'radiant_team_id': 6409189, 'radiant_name': 'Team Empire Hope', 'dire_team_id': 7848119, 'dire_name': 'NOVA', 'leagueid': 11999, 'league_name': 'Global Infection Cup', 'series_id': 450633, 'series_type': 2, 'radiant_score': 22, 'dire_score': 29, 'radiant_win': False}, {'match_id': 5446735849, 'duration': 2075, 'start_time': 1590942784, 'radiant_team_id': 2163, 'radiant_name': 'Team Liquid', 'dire_team_id': 36, 'dire_name': 'Natus Vincere', 'leagueid': 12027, 'league_name': 'ESL One Birmingham 2020 Online powered by Intel', 'series_id': 450623, 'series_type': 1, 'radiant_score': 22, 'dire_score': 12, 'radiant_win': True}, {'match_id': 5446735049, 'duration': 973, 'start_time': 1590942351, 'radiant_team_id': 6409189, 'radiant_name': 'Team Empire Hope', 'dire_team_id': 7848119, 'dire_name': 'NOVA', 'leagueid': 11999, 'league_name': 'Global Infection Cup', 'series_id': 450633, 'series_type': 2, 'radiant_score': 4, 'dire_score': 15, 'radiant_win': False}, {'match_id': 5446728486, 'duration': 1280, 'start_time': 1590942051, 'radiant_team_id': 7976365, 'radiant_name': 'Untitled', 'dire_team_id': 7937681, 'dire_name': 'DestroyItems', 'leagueid': 12093, 'league_name': 'YouTube SIVVIT - Big Russian Show', 'series_id': 450668, 'series_type': 1, 'radiant_score': 11, 'dire_score': 33, 'radiant_win': False}, {'match_id': 5446677002, 'duration': 1949, 'start_time': 1590940402, 'radiant_team_id': 6685591, 'radiant_name': 'ViKin.gg', 'dire_team_id': 7930695, 'dire_name': 'FAMILY TEAM', 'leagueid': 12027, 'league_name': 'ESL One Birmingham 2020 Online powered by Intel', 'series_id': 450627, 'series_type': 1, 'radiant_score': 36, 'dire_score': 12, 'radiant_win': True}, {'match_id': 5446643656, 'duration': 1208, 'start_time': 1590939261, 'radiant_team_id': 7937681, 'radiant_name': 'DestroyItems', 'dire_team_id': 7976365, 'dire_name': 'Untitled', 'leagueid': 12093, 'league_name': 'YouTube SIVVIT - Big Russian Show', 'series_id': 450668, 'series_type': 0, 'radiant_score': 22, 'dire_score': 8, 'radiant_win': True}, {'match_id': 5446610442, 'duration': 2146, 'start_time': 1590938273, 'radiant_team_id': 7848119, 'radiant_name': 'NOVA', 'dire_team_id': 6409189, 'dire_name': 'Team Empire Hope', 'leagueid': 11999, 'league_name': 'Global Infection Cup', 'series_id': 450633, 'series_type': 2, 'radiant_score': 31, 'dire_score': 40, 'radiant_win': False}, {'match_id': 5446591849, 'duration': 2456, 'start_time': 1590937683, 'radiant_team_id': 6209143, 'radiant_name': 'Gambit Esports', 'dire_team_id': 7820540, 'dire_name': 'Team Unique', 'leagueid': 12027, 'league_name': 'ESL One Birmingham 2020 Online powered by Intel', 'series_id': 450624, 'series_type': 1, 'radiant_score': 32, 'dire_score': 38, 'radiant_win': False}, {'match_id': 5446591207, 'duration': 2182, 'start_time': 1590937664, 'radiant_team_id': 7554697, 'radiant_name': 'Nigma', 'dire_team_id': 1838315, 'dire_name': 'Team Secret', 'leagueid': 12027, 'league_name': 'ESL One Birmingham 2020 Online powered by Intel', 'series_id': 450626, 'series_type': 1, 'radiant_score': 11, 'dire_score': 32, 'radiant_win': False}]\n"
     ]
    }
   ],
   "source": [
    "x = get_match_history()"
   ]
  },
  {
   "cell_type": "code",
   "execution_count": 4,
   "metadata": {},
   "outputs": [],
   "source": [
    "y = [i['match_id'] for i in x]"
   ]
  },
  {
   "cell_type": "code",
   "execution_count": 16,
   "metadata": {},
   "outputs": [
    {
     "data": {
      "text/plain": [
       "[5450581495,\n",
       " 5450485396,\n",
       " 5450449906,\n",
       " 5450379602,\n",
       " 5450332626,\n",
       " 5450308703,\n",
       " 5450245044,\n",
       " 5450184004,\n",
       " 5450113195,\n",
       " 5450061065,\n",
       " 5450020255,\n",
       " 5450015852,\n",
       " 5449956482,\n",
       " 5449922096,\n",
       " 5449919699,\n",
       " 5449900116,\n",
       " 5449892977,\n",
       " 5449869799,\n",
       " 5449830847,\n",
       " 5449829040,\n",
       " 5449813596,\n",
       " 5449806735,\n",
       " 5449756388,\n",
       " 5449744829,\n",
       " 5449734818,\n",
       " 5449709866,\n",
       " 5449686587,\n",
       " 5449677465,\n",
       " 5449635341,\n",
       " 5449625010,\n",
       " 5449620942,\n",
       " 5449583286,\n",
       " 5449569784,\n",
       " 5449540107,\n",
       " 5449532848,\n",
       " 5449531556,\n",
       " 5449496600,\n",
       " 5449472858,\n",
       " 5449446679,\n",
       " 5449446588,\n",
       " 5449409755,\n",
       " 5449387622,\n",
       " 5449373749,\n",
       " 5449363291,\n",
       " 5449323875,\n",
       " 5449313854,\n",
       " 5449312328,\n",
       " 5449294568,\n",
       " 5448545961,\n",
       " 5448423128,\n",
       " 5448372917,\n",
       " 5448306852,\n",
       " 5448286326,\n",
       " 5448237111,\n",
       " 5448207969,\n",
       " 5448177445,\n",
       " 5448062880,\n",
       " 5447992646,\n",
       " 5447964890,\n",
       " 5447925886,\n",
       " 5447867826,\n",
       " 5447864354,\n",
       " 5447811671,\n",
       " 5447715153,\n",
       " 5447667077,\n",
       " 5447620916,\n",
       " 5447586578,\n",
       " 5447564856,\n",
       " 5447538078,\n",
       " 5447529628,\n",
       " 5447519774,\n",
       " 5447476888,\n",
       " 5447466274,\n",
       " 5447432826,\n",
       " 5447287781,\n",
       " 5447251181,\n",
       " 5447229811,\n",
       " 5447222283,\n",
       " 5447151947,\n",
       " 5447147973,\n",
       " 5447146779,\n",
       " 5447058003,\n",
       " 5446982061,\n",
       " 5446976415,\n",
       " 5446954733,\n",
       " 5446939580,\n",
       " 5446922398,\n",
       " 5446871351,\n",
       " 5446860850,\n",
       " 5446857495,\n",
       " 5446844913,\n",
       " 5446822221,\n",
       " 5446735849,\n",
       " 5446735049,\n",
       " 5446728486,\n",
       " 5446677002,\n",
       " 5446643656,\n",
       " 5446610442,\n",
       " 5446591849,\n",
       " 5446591207]"
      ]
     },
     "execution_count": 16,
     "metadata": {},
     "output_type": "execute_result"
    }
   ],
   "source": [
    "y"
   ]
  },
  {
   "cell_type": "code",
   "execution_count": 13,
   "metadata": {},
   "outputs": [],
   "source": [
    "from datetime import datetime\n",
    "ts = 1591119168\n",
    "z = datetime.utcfromtimestamp(ts).strftime('%Y-%m-%d %H:%M:%S')"
   ]
  },
  {
   "cell_type": "code",
   "execution_count": 15,
   "metadata": {},
   "outputs": [
    {
     "data": {
      "text/plain": [
       "'2020-06-02'"
      ]
     },
     "execution_count": 15,
     "metadata": {},
     "output_type": "execute_result"
    }
   ],
   "source": [
    "z.split()[0]"
   ]
  },
  {
   "cell_type": "code",
   "execution_count": null,
   "metadata": {},
   "outputs": [],
   "source": [
    "#start\n",
    "#for runs\n",
    "    #call pro matches api - if list of match id's use lowest match id as last id\n",
    "    #get list of match id's\n",
    "    #for each id\n",
    "        #if id not in db\n",
    "            #call match detail api\n",
    "            #clean and add data to db\n",
    "    \n"
   ]
  }
 ],
 "metadata": {
  "kernelspec": {
   "display_name": "Python 3",
   "language": "python",
   "name": "python3"
  },
  "language_info": {
   "codemirror_mode": {
    "name": "ipython",
    "version": 3
   },
   "file_extension": ".py",
   "mimetype": "text/x-python",
   "name": "python",
   "nbconvert_exporter": "python",
   "pygments_lexer": "ipython3",
   "version": "3.7.4"
  }
 },
 "nbformat": 4,
 "nbformat_minor": 4
}
